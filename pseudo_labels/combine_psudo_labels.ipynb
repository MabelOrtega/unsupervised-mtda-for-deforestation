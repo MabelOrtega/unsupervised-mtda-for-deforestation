{
 "cells": [
  {
   "cell_type": "code",
   "execution_count": null,
   "id": "22f067ab",
   "metadata": {},
   "outputs": [],
   "source": [
    "from utils import *\n",
    "root_path = os.getcwd()\n",
    "print(root_path)\n",
    "\n",
    "# folder to load config file\n",
    "CONFIG_PATH = root_path\n",
    "config = load_config(CONFIG_PATH, 'main_config.yaml')\n",
    "#print('config: ', config)\n",
    "\n",
    "test_name = 'PA'\n",
    "name_map1 = 'cva'\n",
    "name_map2 = 'ssim'\n",
    "di_map1 = np.load(os.path.join(config['data_directory'], config['name_img'], name_map1 + '_map_'+ test_name+ '_1C.npy'))\n",
    "di_map2 = np.load(os.path.join(config['data_directory'], config['name_img'], name_map2 + '_map_'+ test_name+ '_1C.npy'))\n",
    "\n",
    "print('map shapes: ', di_map1.shape, di_map2.shape)                "
   ]
  },
  {
   "cell_type": "code",
   "execution_count": null,
   "id": "d9734027",
   "metadata": {},
   "outputs": [],
   "source": [
    "print(np.unique(di_map1), np.unique(di_map2))"
   ]
  },
  {
   "cell_type": "code",
   "execution_count": null,
   "id": "b5f3dc99",
   "metadata": {},
   "outputs": [],
   "source": [
    "certain_map = di_map1 * di_map2\n",
    "certain_map.shape"
   ]
  },
  {
   "cell_type": "code",
   "execution_count": null,
   "id": "c70f5dd1",
   "metadata": {},
   "outputs": [],
   "source": [
    "uncertain_mask = (di_map1 != di_map2)*1\n",
    "print(uncertain_mask.shape)\n",
    "print('unique values ... ', np.unique(uncertain_mask))"
   ]
  },
  {
   "cell_type": "code",
   "execution_count": null,
   "id": "b677c8b3",
   "metadata": {},
   "outputs": [],
   "source": [
    "#certain_mask = bool_map == 1\n",
    "#uncertain_mask = bool_map == 0\n",
    "#print(np.unique(certain_mask), np.unique(uncertain_mask))\n",
    "#print(certain_mask.shape, uncertain_mask.shape)\n",
    "#sum_map = di_map1 + di_map2\n",
    "#sum_map[sum_map >= 1] = 1\n",
    "#certain_map = certain_mask * sum_map\n",
    "#uncertain_map = uncertain_mask * sum_map\n",
    "#print(np.unique(certain_map), np.unique(uncertain_map))"
   ]
  },
  {
   "cell_type": "code",
   "execution_count": null,
   "id": "5140a91d",
   "metadata": {},
   "outputs": [],
   "source": [
    "plt.figure()\n",
    "plt.subplot(1,2,1)\n",
    "plt.imshow(certain_map)\n",
    "plt.subplot(1,2,2)\n",
    "plt.imshow(uncertain_mask)"
   ]
  },
  {
   "cell_type": "code",
   "execution_count": null,
   "id": "1e150bda",
   "metadata": {},
   "outputs": [],
   "source": [
    "# Loading reference\n",
    "final_mask = np.load(os.path.join(config['data_directory'], config['name_img'], test_name + '_1C_ref_2020_2021.npy'))\n",
    "print(final_mask.shape)\n",
    "true_ref = np.zeros_like(final_mask)\n",
    "true_ref[final_mask ==1] = 1"
   ]
  },
  {
   "cell_type": "code",
   "execution_count": null,
   "id": "96630e80",
   "metadata": {},
   "outputs": [],
   "source": [
    "plt.figure(figsize=(10,10))\n",
    "plt.subplot(1,2,1)\n",
    "plt.imshow(certain_map, cmap = 'jet')\n",
    "plt.subplot(1,2,2)\n",
    "plt.imshow(true_ref, cmap = 'jet')"
   ]
  },
  {
   "cell_type": "code",
   "execution_count": null,
   "id": "71f8e279",
   "metadata": {},
   "outputs": [],
   "source": [
    "mask_test = np.load(os.path.join(config['data_directory'], config['name_img'],'test_mask_'+ test_name+ '.npy'))\n",
    "print('test mask: ', 'test_mask_'+ test_name +'.npy')\n",
    "final_mask = final_mask[:mask_test.shape[0], :mask_test.shape[1]]\n",
    "prob_map = certain_map[:mask_test.shape[0], :mask_test.shape[1]]\n",
    "print('clases: ', np.unique(final_mask), np.unique(prob_map))\n",
    "\n",
    "ProbList = [0.5]\n",
    "    \n",
    "metrics_05 = matrics_AA_recall(ProbList, prob_map, final_mask, mask_test, 625)\n",
    "print('recall, precision, f1-score: ', metrics_05*100)"
   ]
  },
  {
   "cell_type": "code",
   "execution_count": null,
   "id": "d8bc3a3e",
   "metadata": {},
   "outputs": [],
   "source": [
    "past_ref = np.load(os.path.join(config['data_directory'], config['name_img'], 'references' , 'past_def_accumulated_' + config['name_img'] + '.npy'))\n",
    "past_ref = past_ref[:mask_test.shape[0], :mask_test.shape[1]]\n",
    "certain_map = certain_map[:mask_test.shape[0], :mask_test.shape[1]]\n",
    "uncertain_mask = uncertain_mask[:mask_test.shape[0], :mask_test.shape[1]]"
   ]
  },
  {
   "cell_type": "code",
   "execution_count": null,
   "id": "336dd484",
   "metadata": {},
   "outputs": [],
   "source": [
    "np.unique(certain_map)"
   ]
  },
  {
   "cell_type": "code",
   "execution_count": null,
   "id": "1e833b6e",
   "metadata": {},
   "outputs": [],
   "source": [
    "final_certain_map = certain_map.copy()\n",
    "no_considered_mask = np.zeros_like(past_ref)\n",
    "no_considered_mask[past_ref == 1] = 1\n",
    "no_considered_mask[uncertain_mask == 1] = 1\n",
    "no_considered_mask[no_considered_mask >= 1] = 1\n",
    "final_certain_map[no_considered_mask == 1] = 2\n",
    "print(final_certain_map.shape, np.unique(final_certain_map))"
   ]
  },
  {
   "cell_type": "code",
   "execution_count": null,
   "id": "592bc89d",
   "metadata": {},
   "outputs": [],
   "source": [
    "plt.figure(figsize = (5,10))\n",
    "plt.imshow(final_certain_map, cmap  = 'gray')"
   ]
  },
  {
   "cell_type": "code",
   "execution_count": null,
   "id": "edb28c59",
   "metadata": {},
   "outputs": [],
   "source": [
    "np.save(os.path.join(config['data_directory'], config['name_img'],'certain_map_'+ test_name+ '_1C.npy'), final_certain_map)"
   ]
  },
  {
   "cell_type": "code",
   "execution_count": null,
   "id": "d08cf24f",
   "metadata": {},
   "outputs": [],
   "source": [
    "#np.save(os.path.join(config['data_directory'], config['name_img'],'cva_and_ssim_certain_map_'+ test_name+ '.npy'),certain_map)\n",
    "#np.save(os.path.join(config['data_directory'], config['name_img'],'cva_and_ssim_uncertain_map_'+ test_name+ '.npy'),uncertain_map)"
   ]
  },
  {
   "cell_type": "code",
   "execution_count": null,
   "id": "758bf3d5",
   "metadata": {},
   "outputs": [],
   "source": [
    "#pmapc = np.load(os.path.join(config['data_directory'], config['name_img'],'cva_and_ssim_certain_map_'+ test_name+ '.npy'))\n",
    "#pmapi = np.load(os.path.join(config['data_directory'], config['name_img'],'cva_and_ssim_certain_map_'+ test_name+ '.npy'))"
   ]
  }
 ],
 "metadata": {
  "kernelspec": {
   "display_name": "Python 3",
   "language": "python",
   "name": "python3"
  },
  "language_info": {
   "codemirror_mode": {
    "name": "ipython",
    "version": 3
   },
   "file_extension": ".py",
   "mimetype": "text/x-python",
   "name": "python",
   "nbconvert_exporter": "python",
   "pygments_lexer": "ipython3",
   "version": "3.7.10"
  }
 },
 "nbformat": 4,
 "nbformat_minor": 5
}
