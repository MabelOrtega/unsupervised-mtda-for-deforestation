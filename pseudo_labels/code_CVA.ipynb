{
 "cells": [
  {
   "cell_type": "code",
   "execution_count": null,
   "id": "646b62ec",
   "metadata": {},
   "outputs": [],
   "source": [
    "from utils import *\n",
    "root_path = os.getcwd()\n",
    "print(root_path)\n",
    "\n",
    "# folder to load config file\n",
    "CONFIG_PATH = root_path\n",
    "config = load_config(CONFIG_PATH, 'main_config.yaml')\n",
    "#print('config: ', config)"
   ]
  },
  {
   "cell_type": "code",
   "execution_count": null,
   "id": "f113cac0",
   "metadata": {},
   "outputs": [],
   "source": [
    "# images name\n",
    "print(config['name_img'])\n",
    "if config['name_img'] == 'PA_1C':\n",
    "    print('[***] Para')\n",
    "    name = 'PA_1C'\n",
    "    img_date_t0 = 'S2_PA_2020_07_15_'\n",
    "    img_date_t1 = 'S2_PA_2021_07_25_08_04_'\n",
    "    test_name = 'PA'\n",
    "if config['name_img'] == 'RO_1C':\n",
    "    print('[***] Rondonia')\n",
    "    name = 'RO_1C'\n",
    "    img_date_t0 = 'S2_RO_2020_07_29_08_01_'\n",
    "    img_date_t1 = 'S2_RO_2021_07_19_22_'\n",
    "    test_name = 'RO'\n",
    "if config['name_img'] == 'MT_1C':\n",
    "    print('[***] Mato Grosso')\n",
    "    name = 'MT_1C'\n",
    "    img_date_t0 = 'S2_MT_2020_08_02_'\n",
    "    img_date_t1 = 'S2_MT_2021_07_23_'\n",
    "    test_name = 'MT'\n",
    "if config['name_img'] == 'MA_1C':\n",
    "    print('[***] Maranhao')\n",
    "    name = 'MA_1C'\n",
    "    img_date_t0 = 'S2_MA_2020_08_02_10_'\n",
    "    img_date_t1 = 'S2_MA_2021_08_20_'   \n",
    "    test_name = 'MA'"
   ]
  },
  {
   "cell_type": "code",
   "execution_count": null,
   "id": "a99402f0",
   "metadata": {},
   "outputs": [],
   "source": [
    "# load images\n",
    "if config['name_img'] == 'PA_1C':\n",
    "    # T0\n",
    "    img_t0a = load_optical_image(os.path.join(config['data_directory'], config['name_img'], config['t0'],\n",
    "                                              img_date_t0 + 'B1_B2_B3.tif'))[:,:,1:].astype('float32')\n",
    "    img_t0b = load_optical_image(os.path.join(config['data_directory'], config['name_img'], config['t0'],\n",
    "                                              img_date_t0 + 'B4_B5_B6.tif')).astype('float32')\n",
    "    img_t0c = load_optical_image(os.path.join(config['data_directory'], config['name_img'], config['t0'],\n",
    "                                              img_date_t0 + 'B7_B8_B8A.tif')).astype('float32')    \n",
    "    img_t0d = load_optical_image(os.path.join(config['data_directory'], config['name_img'], config['t0'],\n",
    "                                              img_date_t0 + 'B9_B10_B11.tif'))[:,:,-1].astype('float32') \n",
    "    img_t0e = load_tif_image(os.path.join(config['data_directory'], config['name_img'], config['t0'],\n",
    "                                              img_date_t0 + 'B12.tif')).astype('float32') \n",
    "    print('T0: ', img_t0a.shape, img_t0b.shape, img_t0c.shape, img_t0d.shape, img_t0e.shape)\n",
    "    \n",
    "    #T1\n",
    "    img_t1a = load_optical_image(os.path.join(config['data_directory'], config['name_img'], config['t1'],\n",
    "                                              img_date_t1 + 'B1_B2_B3.tif'))[:,:,1:].astype('float32')\n",
    "    img_t1b = load_optical_image(os.path.join(config['data_directory'], config['name_img'], config['t1'],\n",
    "                                              img_date_t1 + 'B4_B5_B6.tif')).astype('float32')\n",
    "    img_t1c = load_optical_image(os.path.join(config['data_directory'], config['name_img'], config['t1'],\n",
    "                                              img_date_t1 + 'B7_B8_B8A.tif')).astype('float32')\n",
    "    img_t1d = load_optical_image(os.path.join(config['data_directory'], config['name_img'], config['t1'],\n",
    "                                              img_date_t1 + 'B9_B10_B11.tif'))[:,:,-1].astype('float32')\n",
    "    img_t1e = load_tif_image(os.path.join(config['data_directory'], config['name_img'], config['t1'],\n",
    "                                              img_date_t1 + 'B12.tif')).astype('float32')\n",
    "    print('T1: ', img_t1a.shape, img_t1b.shape, img_t1c.shape, img_t1d.shape, img_t1e.shape)\n",
    "    \n",
    "    img_t0 = np.concatenate((img_t0a, img_t0b, img_t0c, np.expand_dims(img_t0d, axis = -1),\n",
    "                             np.expand_dims(img_t0e, axis = -1)), axis = -1)\n",
    "    \n",
    "    img_t1 = np.concatenate((img_t1a, img_t1b, img_t1c, np.expand_dims(img_t1d, axis = -1),\n",
    "                             np.expand_dims(img_t1e, axis = -1)), axis = -1)\n",
    "    \n",
    "    del img_t0a, img_t0b, img_t0c, img_t0d, img_t0e, img_t1a, img_t1b, img_t1c, img_t1d, img_t1e\n",
    "else:\n",
    "    # T0\n",
    "    img_t0a = load_optical_image(os.path.join(config['data_directory'], config['name_img'], config['t0'],\n",
    "                                              img_date_t0 + 'B1_B2.tif'))[:,:,-1].astype('float32')\n",
    "    img_t0b = load_optical_image(os.path.join(config['data_directory'], config['name_img'], config['t0'],\n",
    "                                              img_date_t0 + 'B3_B4.tif')).astype('float32')\n",
    "    img_t0c = load_optical_image(os.path.join(config['data_directory'], config['name_img'], config['t0'],\n",
    "                                              img_date_t0 + 'B5_B6.tif')).astype('float32')\n",
    "    img_t0d = load_optical_image(os.path.join(config['data_directory'], config['name_img'], config['t0'],\n",
    "                                              img_date_t0 + 'B7_B8.tif')).astype('float32')\n",
    "    img_t0e = load_optical_image(os.path.join(config['data_directory'], config['name_img'], config['t0'],\n",
    "                                              img_date_t0 + 'B8A_B9.tif'))[:,:,0].astype('float32')\n",
    "    img_t0f = load_optical_image(os.path.join(config['data_directory'], config['name_img'], config['t0'],\n",
    "                                              img_date_t0 + 'B10_B11.tif'))[:,:,-1].astype('float32')\n",
    "    img_t0g = load_tif_image(os.path.join(config['data_directory'], config['name_img'], config['t0'],\n",
    "                                              img_date_t0 + 'B12.tif')).astype('float32')\n",
    "    print('T0: ', img_t0a.shape, img_t0b.shape, img_t0c.shape, img_t0d.shape, img_t0e.shape, img_t0f.shape, img_t0g.shape)\n",
    "    # T1\n",
    "    img_t1a = load_optical_image(os.path.join(config['data_directory'], config['name_img'], config['t1'],\n",
    "                                              img_date_t1 + 'B1_B2.tif'))[:,:,-1].astype('float32')\n",
    "    img_t1b = load_optical_image(os.path.join(config['data_directory'], config['name_img'], config['t1'],\n",
    "                                              img_date_t1 + 'B3_B4.tif')).astype('float32')\n",
    "    img_t1c = load_optical_image(os.path.join(config['data_directory'], config['name_img'], config['t1'],\n",
    "                                              img_date_t1 + 'B5_B6.tif')).astype('float32')\n",
    "    img_t1d = load_optical_image(os.path.join(config['data_directory'], config['name_img'], config['t1'],\n",
    "                                              img_date_t1 + 'B7_B8.tif')).astype('float32')\n",
    "    img_t1e = load_optical_image(os.path.join(config['data_directory'], config['name_img'], config['t1'],\n",
    "                                              img_date_t1 + 'B8A_B9.tif'))[:,:,0].astype('float32')\n",
    "    img_t1f = load_optical_image(os.path.join(config['data_directory'], config['name_img'], config['t1'],\n",
    "                                              img_date_t1 + 'B10_B11.tif'))[:,:,-1].astype('float32')\n",
    "    img_t1g = load_tif_image(os.path.join(config['data_directory'], config['name_img'], config['t1'],\n",
    "                                          img_date_t1 + 'B12.tif')).astype('float32')\n",
    "    print('T1: ', img_t1a.shape, img_t1b.shape, img_t1c.shape, img_t1d.shape, img_t1e.shape, img_t1f.shape, img_t1g.shape)\n",
    "    \n",
    "    img_t0 = np.concatenate((np.expand_dims(img_t0a, axis = -1), img_t0b, img_t0c, img_t0d,\n",
    "                             np.expand_dims(img_t0e, axis = -1), np.expand_dims(img_t0f, axis = -1),\n",
    "                             np.expand_dims(img_t0g, axis = -1)), axis = -1)\n",
    "\n",
    "    img_t1 = np.concatenate((np.expand_dims(img_t1a, axis = -1), img_t1b, img_t1c, img_t1d,\n",
    "                             np.expand_dims(img_t1e, axis = -1), np.expand_dims(img_t1f, axis = -1),\n",
    "                             np.expand_dims(img_t1g, axis = -1)), axis = -1)\n",
    "    \n",
    "    del img_t0a, img_t0b, img_t0c, img_t0d, img_t0e, img_t0f, img_t1a, img_t1b, img_t1c, img_t1d, img_t1e, img_t1f\n",
    "\n",
    "print('image stack: ', img_t0.shape, img_t1.shape)"
   ]
  },
  {
   "cell_type": "code",
   "execution_count": null,
   "id": "76e21cdd",
   "metadata": {},
   "outputs": [],
   "source": [
    "# Loading reference\n",
    "past_ref = np.load(os.path.join(config['data_directory'], config['name_img'], 'references' , 'past_def_accumulated_' + config['name_img'] + '.npy'))\n",
    "final_mask = np.load(os.path.join(config['data_directory'], config['name_img'], config['name_img'] +'_ref_2020_2021.npy'))\n",
    "print(config['name_img'] +'_ref_2020_2021.npy')\n",
    "print(final_mask.shape, past_ref.shape, np.unique(past_ref))"
   ]
  },
  {
   "cell_type": "code",
   "execution_count": null,
   "id": "2411e575",
   "metadata": {},
   "outputs": [],
   "source": [
    "## Computing the CVA components\n",
    "nom_img = False\n",
    "if nom_img == True:  \n",
    "    print('[***] Normalizing images')\n",
    "    img_t0 = normalization(img_t0.copy(), norm_type = 2)\n",
    "    img_t1 = normalization(img_t1.copy(), norm_type = 2)\n",
    "else:\n",
    "    img_t0 = img_t0\n",
    "    img_t1 = img_t1\n",
    "    \n",
    "diffMap = img_t1 - img_t0\n",
    "magnitude = np.sqrt(np.sum(diffMap**2,axis = -1))\n",
    "print(magnitude.shape)"
   ]
  },
  {
   "cell_type": "code",
   "execution_count": null,
   "id": "606e4c6e",
   "metadata": {},
   "outputs": [],
   "source": [
    "## Phase\n",
    "t0_reshape = np.reshape(img_t0, (img_t0.shape[0]*img_t0.shape[1], img_t0.shape[2]))\n",
    "t1_reshape = np.reshape(img_t1, (img_t1.shape[0]*img_t1.shape[1], img_t1.shape[2]))\n",
    "num = np.sum((t0_reshape * t1_reshape), axis = -1)\n",
    "den = np.sqrt(np.sum(t0_reshape ** 2, axis = -1)) * np.sqrt(np.sum(t1_reshape ** 2, axis = -1))\n",
    "phase_reshape = num / den\n",
    "phase = np.reshape(phase_reshape, (img_t0.shape[0] , img_t0.shape[1]));\n",
    "phs_rad = np.arccos(phase)\n",
    "phs_grad = (phs_rad*180)/np.pi;\n",
    "print(phs_grad.shape)"
   ]
  },
  {
   "cell_type": "code",
   "execution_count": null,
   "id": "4a0c094e",
   "metadata": {},
   "outputs": [],
   "source": [
    "## Applying OTSU over normalized histograms\n",
    "# Magnitude\n",
    "magnitude_norm = (magnitude - np.min(magnitude))/(np.max(magnitude)- np.min(magnitude))\n",
    "magnitude_norm_filt = magnitude_norm[past_ref == 0]\n",
    "print('mag norm: ', magnitude_norm.ravel().shape)\n",
    "print('mag norm filt: ', magnitude_norm_filt.ravel().shape)\n",
    "plt.hist(magnitude_norm_filt.ravel(), bins=256)\n",
    "thresh_mg = threshold_otsu(magnitude_norm_filt)\n",
    "print('Threshold-otsu magnitude : ', thresh_mg)\n",
    "#T = otsuthresh(h.Values);\n",
    "## binarizing the magnitude\n",
    "mag_binary_map = magnitude_norm > thresh_mg\n",
    "\n",
    "print(mag_binary_map.shape)"
   ]
  },
  {
   "cell_type": "code",
   "execution_count": null,
   "id": "a355feee",
   "metadata": {},
   "outputs": [],
   "source": [
    "# phase\n",
    "phs_grad_norm = (phs_grad - np.min(phs_grad))/(np.max(phs_grad)- np.min(phs_grad))\n",
    "phs_grad_norm_filt = phs_grad_norm[past_ref == 0]\n",
    "print('phs norm: ', phs_grad_norm.ravel().shape)\n",
    "print('phs norm filt: ', phs_grad_norm_filt.ravel().shape)\n",
    "plt.hist(phs_grad_norm_filt.ravel(), bins=256)\n",
    "thresh_ph = threshold_otsu(phs_grad_norm_filt)\n",
    "print('Threshold-otsu phase : ', thresh_ph)\n",
    "\n",
    "# binarizing the phase\n",
    "phs_binary_map = phs_grad_norm > thresh_ph\n",
    "\n",
    "print(phs_binary_map)"
   ]
  },
  {
   "cell_type": "code",
   "execution_count": null,
   "id": "176f5b78",
   "metadata": {},
   "outputs": [],
   "source": [
    "# Combining two maps\n",
    "final_map = (mag_binary_map*1) * (phs_binary_map*1)\n",
    "print(np.unique(final_map))\n",
    "filt_final_map = scipy.signal.medfilt2d(final_map.astype(np.uint8), kernel_size=5)"
   ]
  },
  {
   "cell_type": "code",
   "execution_count": null,
   "id": "1c3f60a5",
   "metadata": {},
   "outputs": [],
   "source": [
    "# Removing area of PRODES 625 px\n",
    "px_area = 625\n",
    "filt_area = skimage.morphology.area_opening(filt_final_map, area_threshold = px_area, connectivity=1)"
   ]
  },
  {
   "cell_type": "code",
   "execution_count": null,
   "id": "912cab35",
   "metadata": {},
   "outputs": [],
   "source": [
    "plt.figure(figsize=(5,10))\n",
    "plt.imshow(filt_area)"
   ]
  },
  {
   "cell_type": "code",
   "execution_count": null,
   "id": "70802b32",
   "metadata": {},
   "outputs": [],
   "source": [
    "# processed labels\n",
    "final_prediction = filt_final_map * filt_area * (past_ref == 0)*1\n",
    "true_ref = np.zeros_like(final_mask)\n",
    "true_ref[final_mask ==1] = 1"
   ]
  },
  {
   "cell_type": "code",
   "execution_count": null,
   "id": "356b8f69",
   "metadata": {},
   "outputs": [],
   "source": [
    "plt.figure(figsize=(10,10))\n",
    "plt.subplot(1,2,1)\n",
    "plt.imshow(final_prediction, cmap = 'jet')\n",
    "plt.subplot(1,2,2)\n",
    "plt.imshow(true_ref, cmap = 'jet')"
   ]
  },
  {
   "cell_type": "code",
   "execution_count": null,
   "id": "a7c2d0ec",
   "metadata": {},
   "outputs": [],
   "source": [
    "mask_test = np.load(os.path.join(config['data_directory'], config['name_img'],'test_mask_'+ test_name+ '.npy'))\n",
    "print('test mask: ', 'test_mask_'+ test_name +'.npy')\n",
    "final_mask = final_mask[:mask_test.shape[0], :mask_test.shape[1]]\n",
    "\n",
    "prob_map = final_prediction[:mask_test.shape[0], :mask_test.shape[1]]\n",
    "print('clases: ', np.unique(prob_map))\n",
    "\n",
    "ProbList = [0.5]\n",
    "    \n",
    "metrics_05 = matrics_AA_recall(ProbList, prob_map, final_mask, mask_test, 625)\n",
    "print('recall, precision, f1-score: ', metrics_05*100)"
   ]
  },
  {
   "cell_type": "code",
   "execution_count": null,
   "id": "463ac0b0",
   "metadata": {},
   "outputs": [],
   "source": [
    "np.save(os.path.join(config['data_directory'], config['name_img'],'cva_map_'+ test_name+ '.npy'), prob_map)"
   ]
  },
  {
   "cell_type": "code",
   "execution_count": null,
   "id": "8d5fe7b3",
   "metadata": {},
   "outputs": [],
   "source": [
    "complete_cva_map = prob_map.copy()\n",
    "past_ref = past_ref[:mask_test.shape[0], :mask_test.shape[1]]\n",
    "complete_cva_map[past_ref == 1] = 2\n",
    "print(np.unique(complete_cva_map))\n",
    "plt.imshow(complete_cva_map, cmap = 'gray')"
   ]
  },
  {
   "cell_type": "code",
   "execution_count": null,
   "id": "3b254387",
   "metadata": {},
   "outputs": [],
   "source": [
    "np.save(os.path.join(config['data_directory'], config['name_img'],'cva_map_wp_'+ test_name+ '.npy'), complete_cva_map)"
   ]
  },
  {
   "cell_type": "code",
   "execution_count": null,
   "id": "b7f2f84c",
   "metadata": {},
   "outputs": [],
   "source": []
  }
 ],
 "metadata": {
  "kernelspec": {
   "display_name": "Python 3",
   "language": "python",
   "name": "python3"
  },
  "language_info": {
   "codemirror_mode": {
    "name": "ipython",
    "version": 3
   },
   "file_extension": ".py",
   "mimetype": "text/x-python",
   "name": "python",
   "nbconvert_exporter": "python",
   "pygments_lexer": "ipython3",
   "version": "3.7.10"
  }
 },
 "nbformat": 4,
 "nbformat_minor": 5
}
